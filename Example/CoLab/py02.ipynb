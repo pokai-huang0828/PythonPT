{
  "cells": [
    {
      "cell_type": "markdown",
      "metadata": {
        "id": "view-in-github",
        "colab_type": "text"
      },
      "source": [
        "<a href=\"https://colab.research.google.com/github/pokai-huang0828/PythonPT/blob/main/Example/CoLab/py02.ipynb\" target=\"_parent\"><img src=\"https://colab.research.google.com/assets/colab-badge.svg\" alt=\"Open In Colab\"/></a>"
      ]
    },
    {
      "cell_type": "markdown",
      "metadata": {
        "id": "GzEBgyKnu0uC"
      },
      "source": [
        "# Python Day 2 July 10th, 2022"
      ]
    },
    {
      "cell_type": "markdown",
      "metadata": {
        "id": "P9AYwkuuzQq8"
      },
      "source": [
        "# ASCII 美國標準資訊碼\n",
        "[ASCII - Wiki](https://zh.wikipedia.org/wiki/ASCII)\n",
        "\n",
        "# 中文大五碼 Big Five\n",
        "[Big Five - Wiki](https://zh.wikipedia.org/wiki/%E5%A4%A7%E4%BA%94%E7%A2%BC)\n",
        "\n",
        "# 全球統一碼 Unicode\n",
        "[Unicoe - Wiki](https://zh.m.wikipedia.org/zh-tw/Unicode)"
      ]
    },
    {
      "cell_type": "code",
      "execution_count": null,
      "metadata": {
        "colab": {
          "base_uri": "https://localhost:8080/"
        },
        "id": "a9IWsTg8CUdV",
        "outputId": "6ca7d60d-2ee2-470c-89ec-b0e9e59a6f86"
      },
      "outputs": [
        {
          "name": "stdout",
          "output_type": "stream",
          "text": [
            "Mary's\n",
            "Kenny\tHuang\n",
            "Kenny\n",
            "Huang\n",
            "Kenny\rHuang\n",
            "This is a long long long long long string\n"
          ]
        }
      ],
      "source": [
        "print('Mary\\'s')\n",
        "print('Kenny\\tHuang') # Tab space\n",
        "print('Kenny\\nHuang') # Newline\n",
        "print('Kenny\\rHuang') # Return\n",
        "s = \"This is a long \\ \n",
        "long \\\n",
        "long \\\n",
        "long long string\"\n",
        "# Use \\ to continue the line in new line\n",
        "print(s)"
      ]
    },
    {
      "cell_type": "markdown",
      "metadata": {
        "id": "jzZVVjv64lki"
      },
      "source": [
        "# 原始字串 Raw String"
      ]
    },
    {
      "cell_type": "code",
      "execution_count": null,
      "metadata": {
        "colab": {
          "base_uri": "https://localhost:8080/"
        },
        "id": "Hj8ohWXd4toQ",
        "outputId": "3622fdbc-31e8-45e2-869e-57c0765cbdbb"
      },
      "outputs": [
        {
          "name": "stdout",
          "output_type": "stream",
          "text": [
            "C:\temp\n",
            "ame\n",
            "C:\\temp\\name\n",
            "C:\\temp\\name\n"
          ]
        }
      ],
      "source": [
        "s = \"C:\\temp\\name\"\n",
        "print(s)\n",
        "s1 = \"C:\\\\temp\\\\name\"\n",
        "print(s1)\n",
        "print(r\"C:\\temp\\name\")"
      ]
    },
    {
      "cell_type": "markdown",
      "metadata": {
        "id": "u6rFR9IO5VFj"
      },
      "source": [
        "# 格式化字串 F - String"
      ]
    },
    {
      "cell_type": "code",
      "execution_count": null,
      "metadata": {
        "colab": {
          "base_uri": "https://localhost:8080/"
        },
        "id": "ZX5W5ROT5cxx",
        "outputId": "251d3c32-4b6c-4ccb-edb1-2aab8a06d810"
      },
      "outputs": [
        {
          "name": "stdout",
          "output_type": "stream",
          "text": [
            "Kenny is 26 years old.\n"
          ]
        }
      ],
      "source": [
        "name = \"Kenny\"\n",
        "age = 26\n",
        "print(f'{name} is {age} years old.')"
      ]
    },
    {
      "cell_type": "markdown",
      "metadata": {
        "id": "6XIiPTKV8nCC"
      },
      "source": [
        "# 字串索引"
      ]
    },
    {
      "cell_type": "code",
      "execution_count": null,
      "metadata": {
        "colab": {
          "base_uri": "https://localhost:8080/"
        },
        "id": "1Ngfccht53xP",
        "outputId": "253f0608-0b4a-42e8-bc23-de7b1c8a204a"
      },
      "outputs": [
        {
          "output_type": "stream",
          "name": "stdout",
          "text": [
            "y\n",
            "Harleen\n",
            "enialE\n"
          ]
        }
      ],
      "source": [
        "name = \"Kenny\"\n",
        "print(name[-1])\n",
        "\n",
        "name_list = [\"kenny\", \"elaine\", \"jack\", \"Harleen\", \"Eric\"]\n",
        "print(name_list[3])\n",
        "\n",
        "name2 = \"Elaine\"\n",
        "print(name2[:: -1])"
      ]
    },
    {
      "cell_type": "markdown",
      "source": [
        "# 迴文 Check Palindormen"
      ],
      "metadata": {
        "id": "CQ2f-QNKCV5u"
      }
    },
    {
      "cell_type": "code",
      "source": [
        "# V1\n",
        "\n",
        "def isPalindorme(ex_str):\n",
        "  return ex_str == ex_str[::-1]\n",
        "\n",
        "ex_str = input(\"Give a string: \\n\").lower()\n",
        "\n",
        "check_point = isPalindorme(ex_str)\n",
        "\n",
        "if check_point:\n",
        "  print(\"This is Palindorme.\")\n",
        "else:\n",
        "  print(\"This is not Palindorme.\")"
      ],
      "metadata": {
        "colab": {
          "base_uri": "https://localhost:8080/"
        },
        "id": "lUQiMz4VCT7k",
        "outputId": "e7bc9b6d-997c-4f19-a0ca-228be4697f68"
      },
      "execution_count": null,
      "outputs": [
        {
          "output_type": "stream",
          "name": "stdout",
          "text": [
            "Give a string: \n",
            "Level\n",
            "This is Palindorme.\n"
          ]
        }
      ]
    },
    {
      "cell_type": "code",
      "source": [
        "# V2\n",
        "\n",
        "input_str = input(\"Give a string: \\n\").lower()\n",
        "\n",
        "if input_str == input_str[::-1]:\n",
        "  print(f\"{input_str}, This is Palindorme.\")\n",
        "else:\n",
        "  print(f\"{input_str}, This is not Palindorme.\")"
      ],
      "metadata": {
        "colab": {
          "base_uri": "https://localhost:8080/"
        },
        "id": "T-eYEsK3GtgJ",
        "outputId": "f357df20-bb32-4517-8851-38df5ca65392"
      },
      "execution_count": null,
      "outputs": [
        {
          "output_type": "stream",
          "name": "stdout",
          "text": [
            "Give a string: \n",
            "Keny\n",
            "keny, This is not Palindorme.\n"
          ]
        }
      ]
    },
    {
      "cell_type": "markdown",
      "source": [
        "# 身分證字號性別檢查 ID, Gender check"
      ],
      "metadata": {
        "id": "Zlp1KWEQJFmB"
      }
    },
    {
      "cell_type": "code",
      "source": [
        "local_table = {'A':\"台北市\",\n",
        "               'B':\"台中市\",\n",
        "               'C':\"基隆市\",\n",
        "               'D':\"台南市\",\n",
        "               'E':\"高雄市\",\n",
        "               'F':\"台北縣\",\n",
        "               'G':\"宜蘭縣\",\n",
        "               'H':\"桃園縣\",\n",
        "               'I':\"嘉義市\",\n",
        "               'J':\"新竹縣\",\n",
        "               'K':\"苗栗縣\",\n",
        "               'L':\"台中縣\",\n",
        "               'M':\"南投縣\",\n",
        "               'N':\"彰化縣\",\n",
        "               'O':\"新竹市\",\n",
        "               'P':\"雲林縣\",\n",
        "               'Q':\"嘉義縣\",\n",
        "               'R':\"台南縣\",\n",
        "               'S':\"高雄縣\",\n",
        "               'T':\"屏東縣\",\n",
        "               'U':\"花蓮縣\",\n",
        "               'V':\"台東縣\",\n",
        "               'W':\"金門縣\",\n",
        "               'X':\"澎湖縣\",\n",
        "               'Y':\"陽明山\",\n",
        "               'Z':\"連江縣\"\n",
        "               }\n",
        "\n",
        "id_num = input(\"請輸入身分證字號: \\n\")\n",
        "birth = id_num[0]\n",
        "\n",
        "\n",
        " \n",
        "if id_num[1] == \"1\":\n",
        "  print(f\"先生您好，您得出生地為{local_table[birth]}\")\n",
        "elif id_num[1] == \"2\":\n",
        "  print(\"Female\")\n",
        "else:\n",
        "  print(\"Error.\")\n"
      ],
      "metadata": {
        "colab": {
          "base_uri": "https://localhost:8080/"
        },
        "id": "MCDmla1_JEE9",
        "outputId": "2d4e0982-6609-4b69-d094-a488200a674b"
      },
      "execution_count": null,
      "outputs": [
        {
          "output_type": "stream",
          "name": "stdout",
          "text": [
            "請輸入身分證字號: \n",
            "H123995957\n",
            "先生您好，您得出生地為桃園縣\n"
          ]
        }
      ]
    },
    {
      "cell_type": "markdown",
      "source": [
        "# Dict 字典型態"
      ],
      "metadata": {
        "id": "2cDzTFLHT0dB"
      }
    },
    {
      "cell_type": "code",
      "source": [
        "movie = {'name':'Saving Private Ryan', #電影名稱\n",
        "         'year':1998, #電影上映年份\n",
        "         'director':'Steven Spielberg',#導演\n",
        "         'Writer': 'Robert Rodat', #編劇\n",
        "         'Stars':['Tom Hanks', 'Matt Damon', 'Tom Sizemore'],#明星\n",
        "         'Oscar ':['Best Director','Best Cinematography','Best Sound','Best Film Editing','Best Effects, Sound Effects Editing']\n",
        "         #獲得的奧斯卡獎項\n",
        "        }\n",
        "\n",
        "print(movie['director'])\n",
        "\n",
        "movie[\"year\"] = 1996 # Edit \n",
        "\n",
        "print(movie[\"year\"])\n",
        "\n",
        "movie_1 = {'name': 'Saving Private Ryan',\n",
        "           'year': 1998,\n",
        "           'director': 'Steven Spielberg'}\n",
        "movie_2 = dict(name='The Breakfast Club',\n",
        "               year=1985, \n",
        "               director='John Hughes')\n",
        "movie_3 = {'name': 'Catch Me If You Can',\n",
        "           'year': 2002,\n",
        "           'director': 'Steven Spielberg'}\n",
        "\n",
        "print(movie_1['name'])     #執行後會得到 Saving Private Ryan\n",
        "print(movie_2['year'])     #執行後會得到 1985\n",
        "print(movie_3['director']) #執行後會得到 Steven Spielberg\n",
        "\n",
        "movie_1['star'] = \"Tom Hank\" #新增key-value\n",
        "\n",
        "#如果一次要update很多value at a time 用update method就會比較方便\n",
        "temp_dict = {'writer': 'Robert Rodat', #編劇\n",
        "         'stars':['Tom Hanks', 'Matt Damon', 'Tom Sizemore'],#明星\n",
        "         'Oscar ':['Best Director','Best Cinematography','Best Sound','Best Film Editing','Best Effects, Sound Effects Editing']\n",
        "         }\n",
        "movie_1.update(temp_dict)\n",
        "print(movie_1)"
      ],
      "metadata": {
        "colab": {
          "base_uri": "https://localhost:8080/"
        },
        "id": "IY8Dz2fyT6WF",
        "outputId": "3b3c3883-7570-4d19-d330-87f83e7bbfe0"
      },
      "execution_count": null,
      "outputs": [
        {
          "output_type": "stream",
          "name": "stdout",
          "text": [
            "Steven Spielberg\n",
            "1996\n",
            "Saving Private Ryan\n",
            "1985\n",
            "Steven Spielberg\n",
            "{'name': 'Saving Private Ryan', 'year': 1998, 'director': 'Steven Spielberg', 'star': 'Tom Hank', 'writer': 'Robert Rodat', 'stars': ['Tom Hanks', 'Matt Damon', 'Tom Sizemore'], 'Oscar ': ['Best Director', 'Best Cinematography', 'Best Sound', 'Best Film Editing', 'Best Effects, Sound Effects Editing']}\n"
          ]
        }
      ]
    },
    {
      "cell_type": "markdown",
      "source": [
        "# 練習 2-1"
      ],
      "metadata": {
        "id": "dqT8IhOBKB31"
      }
    },
    {
      "cell_type": "markdown",
      "source": [
        "## 尾牙摸彩練習 "
      ],
      "metadata": {
        "id": "FXTOW5p7i25Q"
      }
    },
    {
      "cell_type": "code",
      "source": [
        "import random\n",
        "\n",
        "gifts = [\"汽車一輛\", \n",
        "         \"獎金10萬\", \n",
        "         \"家庭劇院一組\", \n",
        "         \"筆記型電腦一台\", \n",
        "         \"iPhone手機一支\", \n",
        "         \"Switch 遊樂器一台\", \n",
        "         \"飯店住宿卷一張\", \n",
        "         \"飯店住宿卷一張\", \n",
        "         \"下午茶卷兩張\", \n",
        "         \"下午茶卷兩張\", \n",
        "         \"銘謝惠顧，明年繼續加油！\",\n",
        "         \"銘謝惠顧，明年繼續加油！\",\n",
        "         \"銘謝惠顧，明年繼續加油！\",\n",
        "         \"銘謝惠顧，明年繼續加油！\",\n",
        "         \"銘謝惠顧，明年繼續加油！\",\n",
        "         \"銘謝惠顧，明年繼續加油！\",\"銘謝惠顧，明年繼續加油！\",\"銘謝惠顧，明年繼續加油！\",\"銘謝惠顧，明年繼續加油！\",\"銘謝惠顧，明年繼續加油！\"]\n",
        "\n",
        "rand_num = random.randint(0,19)\n",
        "print(gifts[rand_num])\n",
        "\n",
        "\n"
      ],
      "metadata": {
        "colab": {
          "base_uri": "https://localhost:8080/"
        },
        "id": "din2vo8Wi-27",
        "outputId": "283335f5-e809-44b4-e3ab-9d820dd4847a"
      },
      "execution_count": null,
      "outputs": [
        {
          "output_type": "stream",
          "name": "stdout",
          "text": [
            "銘謝惠顧，明年繼續加油！\n"
          ]
        }
      ]
    },
    {
      "cell_type": "code",
      "source": [
        "import random\n",
        "\n",
        "gifts = {\n",
        "    1: \"汽車一輛\", \n",
        "    2: \"獎金10萬\", \n",
        "    3: \"家庭劇院一組\", \n",
        "    4: \"筆記型電腦一台\", \n",
        "    5: \"iPhone手機一支\", \n",
        "    6: \"Switch 遊樂器一台\", \n",
        "    7: \"飯店住宿卷一張\", \n",
        "    8: \"飯店住宿卷一張\", \n",
        "    9: \"下午茶卷兩張\", \n",
        "    10: \"下午茶卷兩張\", \n",
        "    11: \"銘謝惠顧，明年繼續加油！\", \n",
        "    12: \"銘謝惠顧，明年繼續加油！\",\n",
        "    13: \"銘謝惠顧，明年繼續加油！\",\n",
        "    14: \"銘謝惠顧，明年繼續加油！\",\n",
        "    15: \"銘謝惠顧，明年繼續加油！\",\n",
        "    16: \"銘謝惠顧，明年繼續加油！\",\n",
        "    17: \"銘謝惠顧，明年繼續加油！\",\n",
        "    18: \"銘謝惠顧，明年繼續加油！\",\n",
        "    19: \"銘謝惠顧，明年繼續加油！\",\n",
        "    20: \"銘謝惠顧，明年繼續加油！\"   \n",
        "}\n",
        "\n",
        "ran_num = random.randint(1, 20)\n",
        "\n",
        "print(f\"您抽到的號碼為 {ran_num}: \" + gifts[ran_num])\n"
      ],
      "metadata": {
        "colab": {
          "base_uri": "https://localhost:8080/"
        },
        "id": "2XRPHG7Pm-s_",
        "outputId": "41f9a7e2-df4b-4f43-cc8a-bf911928cba9"
      },
      "execution_count": null,
      "outputs": [
        {
          "output_type": "stream",
          "name": "stdout",
          "text": [
            "您抽到的號碼為 10: 下午茶卷兩張\n"
          ]
        }
      ]
    },
    {
      "cell_type": "code",
      "source": [
        "gifts = [\"汽車一輛\", \n",
        "         \"獎金10萬\", \n",
        "         \"家庭劇院一組\", \n",
        "         \"筆記型電腦一台\", \n",
        "         \"iPhone手機一支\", \n",
        "         \"Switch 遊樂器一台\", \n",
        "         \"飯店住宿卷一張\", \n",
        "         \"飯店住宿卷一張\", \n",
        "         \"下午茶卷兩張\", \n",
        "         \"下午茶卷兩張\"]\n",
        "\n",
        "num = int(input(\"輸入彩卷號碼：\"))\n",
        "if(num <= len(gifts)):\n",
        "  print(\"恭喜！！\", gifts[num-1])\n",
        "else:\n",
        "  print(\"銘謝惠顧，明年繼續加油！\")"
      ],
      "metadata": {
        "colab": {
          "base_uri": "https://localhost:8080/"
        },
        "id": "teCRFIi4plaE",
        "outputId": "94dec867-b45e-4aed-885e-0d08d32eb6a4"
      },
      "execution_count": null,
      "outputs": [
        {
          "output_type": "stream",
          "name": "stdout",
          "text": [
            "輸入彩卷號碼：4\n",
            "恭喜！！ 筆記型電腦一台\n"
          ]
        }
      ]
    },
    {
      "cell_type": "markdown",
      "source": [
        "## 資料儲存練習"
      ],
      "metadata": {
        "id": "bRXAoviRoiZL"
      }
    },
    {
      "cell_type": "code",
      "source": [
        "N = {\"K\", \"K\", \"B\", \"H\", \"I\"}\n",
        "\n",
        "print(N)"
      ],
      "metadata": {
        "colab": {
          "base_uri": "https://localhost:8080/"
        },
        "id": "UyktQQJmomjm",
        "outputId": "e4d1d01e-30c7-4665-dd68-096b2ebb2f4f"
      },
      "execution_count": null,
      "outputs": [
        {
          "output_type": "stream",
          "name": "stdout",
          "text": [
            "{'B', 'H', 'I', 'K'}\n"
          ]
        }
      ]
    },
    {
      "cell_type": "markdown",
      "source": [
        "# 分支結構 if ... else\n"
      ],
      "metadata": {
        "id": "NTOd-0Xd8E6Y"
      }
    },
    {
      "cell_type": "code",
      "source": [
        "score = int(input(\"TYpe your score: \"))\n",
        "if score > 60:\n",
        "  print(\"You pass the exam!!\")\n",
        "else:\n",
        "  print(\"You didn't pass the exam...\")\n",
        "print(\"Exit\")"
      ],
      "metadata": {
        "colab": {
          "base_uri": "https://localhost:8080/"
        },
        "id": "Vq7wiofj8MzO",
        "outputId": "840d31ca-33fe-4b68-aaf1-873f01bb4b3f"
      },
      "execution_count": null,
      "outputs": [
        {
          "output_type": "stream",
          "name": "stdout",
          "text": [
            "TYpe your score: 89\n",
            "You pass the exam!!\n",
            "Exit\n"
          ]
        }
      ]
    },
    {
      "cell_type": "code",
      "source": [
        "score = int(input(\"輸入考試成績：\"))\n",
        "\n",
        "if score > 60:\n",
        "  print(\"考試及格！\")\n",
        "  if score > 90:\n",
        "    print(\"超棒喔！找老師領獎！！\")\n",
        "else:\n",
        "  print(\"考試不及格...\")\n",
        "  if score >= 50:\n",
        "    print(\"好吧...找老師重考一次\")\n",
        "  else:\n",
        "    print(\"明年重修見拉！\")\n",
        "print(f\"分數：{score}\")"
      ],
      "metadata": {
        "colab": {
          "base_uri": "https://localhost:8080/"
        },
        "id": "QSf-wJE29o2L",
        "outputId": "1fb8f7ee-fc0d-430a-cbd8-ab5aa2114be4"
      },
      "execution_count": null,
      "outputs": [
        {
          "output_type": "stream",
          "name": "stdout",
          "text": [
            "輸入考試成績：96\n",
            "考試及格！\n",
            "超棒喔！找老師領獎！！\n",
            "分數：96\n"
          ]
        }
      ]
    },
    {
      "cell_type": "markdown",
      "source": [
        "## 檢測 2 and, or 3倍數"
      ],
      "metadata": {
        "id": "twVtRQYYIIjP"
      }
    },
    {
      "cell_type": "code",
      "source": [
        "num = int(input(\"輸入一個整數： \"))\n",
        "\n",
        "if num % 2 == 0 and num % 3 == 0: # it can also use num % 6\n",
        "  print(f\"{num}, 是2和3的倍數！\")\n",
        "\n",
        "elif num % 2 == 0:\n",
        "  print(f\"{num}, 是2的倍數！\")\n",
        "\n",
        "elif num % 3 == 0:\n",
        "  print(f\"{num}, 是3的倍數！\")\n",
        "\n",
        "else:\n",
        "  print(f\"{num}, 不是2或3的倍數！\")"
      ],
      "metadata": {
        "colab": {
          "base_uri": "https://localhost:8080/"
        },
        "id": "8kDXmx1a_l8q",
        "outputId": "1ddfa66d-7313-495f-8615-d0620a5d0af7"
      },
      "execution_count": null,
      "outputs": [
        {
          "output_type": "stream",
          "name": "stdout",
          "text": [
            "輸入一個整數： 77\n",
            "77, 不是2或3的倍數！\n"
          ]
        }
      ]
    },
    {
      "cell_type": "markdown",
      "source": [
        "## New BMI Calculator"
      ],
      "metadata": {
        "id": "tkBTwgJ5Dw9P"
      }
    },
    {
      "cell_type": "code",
      "source": [
        "w = float(input(\"輸入您的體重(kg): \"))\n",
        "h = float(input(\"輸入您的身高(cm): \"))/100\n",
        "\n",
        "BMI = round(w / (h**2), 1)\n",
        "\n",
        "if BMI <= 18.5:\n",
        "  print(\"過輕\")\n",
        "elif 18.5 < BMI <= 25:\n",
        "  print(\"正常\")\n",
        "elif 25 < BMI <= 30:\n",
        "  print(\"過重\")\n",
        "else:\n",
        "  print(\"肥胖\") \n",
        "\n",
        "print(BMI)"
      ],
      "metadata": {
        "colab": {
          "base_uri": "https://localhost:8080/"
        },
        "id": "GE0vN4ydDwka",
        "outputId": "a0b4c119-15f8-4f60-843f-ca78cdc0f244"
      },
      "execution_count": null,
      "outputs": [
        {
          "output_type": "stream",
          "name": "stdout",
          "text": [
            "輸入您的體重(kg): 75\n",
            "輸入您的身高(cm): 174\n",
            "正常\n",
            "24.8\n"
          ]
        }
      ]
    },
    {
      "cell_type": "markdown",
      "source": [
        "# Range 範圍"
      ],
      "metadata": {
        "id": "z1E7GDDtFhRz"
      }
    },
    {
      "cell_type": "code",
      "source": [
        "# 範圍數值\n",
        "a = range(10)\n",
        "print(a)\n",
        "\n",
        "print(list(a))\n",
        "\n",
        "# 第二數值為目標數 - 1\n",
        "b = range(2, 6)\n",
        "print(b)\n",
        "\n",
        "print(list(b))\n",
        "\n",
        "# 第三數值為間隔數值\n",
        "c = range(0, 10, 2)\n",
        "print(c)\n",
        "\n",
        "print(list(c))"
      ],
      "metadata": {
        "colab": {
          "base_uri": "https://localhost:8080/"
        },
        "id": "59JUW7c6Fm1h",
        "outputId": "904e5204-8369-4409-9fb1-98eb44840206"
      },
      "execution_count": null,
      "outputs": [
        {
          "output_type": "stream",
          "name": "stdout",
          "text": [
            "range(0, 10)\n",
            "[0, 1, 2, 3, 4, 5, 6, 7, 8, 9]\n",
            "range(2, 6)\n",
            "[2, 3, 4, 5]\n",
            "range(0, 10, 2)\n",
            "[0, 2, 4, 6, 8]\n"
          ]
        }
      ]
    },
    {
      "cell_type": "markdown",
      "source": [
        "# 迴圈 for loop"
      ],
      "metadata": {
        "id": "AvXticFJGY8b"
      }
    },
    {
      "cell_type": "code",
      "source": [
        "for i in range(5):\n",
        "  print(\"Hello\", i)\n",
        "\n",
        "for i in range(5, 10):\n",
        "  print(\"Cool\", i)\n",
        "\n",
        "for i in range(0, 10, 2):\n",
        "  print(\"Wow\", i)"
      ],
      "metadata": {
        "colab": {
          "base_uri": "https://localhost:8080/"
        },
        "id": "oFksBSL4GdlF",
        "outputId": "662e083e-5c7c-46da-d51b-4ba67c262d70"
      },
      "execution_count": null,
      "outputs": [
        {
          "output_type": "stream",
          "name": "stdout",
          "text": [
            "Hello 0\n",
            "Hello 1\n",
            "Hello 2\n",
            "Hello 3\n",
            "Hello 4\n",
            "Cool 5\n",
            "Cool 6\n",
            "Cool 7\n",
            "Cool 8\n",
            "Cool 9\n",
            "Wow 0\n",
            "Wow 2\n",
            "Wow 4\n",
            "Wow 6\n",
            "Wow 8\n"
          ]
        }
      ]
    },
    {
      "cell_type": "code",
      "source": [
        "greeting = \"Hello\"\n",
        "for c in greeting:\n",
        "  print(c)\n",
        "\n",
        "print(\"=================\\n\")\n",
        "\n",
        "name_list = ['Kenny', 'Elaine', 'Robin', 'Sara', 'Mia']\n",
        "for n in name_list:\n",
        "  print(\"My family members: \" + n)\n",
        "\n",
        "print(\"===================\\n\")\n",
        "listOfTuple = [(1, 2), (2, 3), (3, 4)]\n",
        "for x1, x2 in listOfTuple:\n",
        "  print(x1, x2)\n"
      ],
      "metadata": {
        "colab": {
          "base_uri": "https://localhost:8080/"
        },
        "id": "YwLYVg1YG4rU",
        "outputId": "b869f4f0-0c56-4b24-b3fe-0bf7fb821528"
      },
      "execution_count": null,
      "outputs": [
        {
          "output_type": "stream",
          "name": "stdout",
          "text": [
            "H\n",
            "e\n",
            "l\n",
            "l\n",
            "o\n",
            "=================\n",
            "\n",
            "My family members: Kenny\n",
            "My family members: Elaine\n",
            "My family members: Robin\n",
            "My family members: Sara\n",
            "My family members: Mia\n",
            "===================\n",
            "\n",
            "1 2\n",
            "2 3\n",
            "3 4\n"
          ]
        }
      ]
    },
    {
      "cell_type": "markdown",
      "source": [
        "## ZIP 打包"
      ],
      "metadata": {
        "id": "tD8E-b3cJn7p"
      }
    },
    {
      "cell_type": "code",
      "source": [
        "subjs = ['國文', '數學', '英文', '自然']\n",
        "score = [90, 82, 95, 85]\n",
        "\n",
        "for i in range(len(subjs)):\n",
        "  print('%s分數：%d分' %(subjs[i], score[i]))\n",
        "\n",
        "print(list(zip(subjs, score)))\n",
        "\n",
        "combin = list(zip(subjs, score))\n",
        "\n",
        "for n, s in combin:\n",
        "  print(\"%s分數：%d分\" %(n, s)) "
      ],
      "metadata": {
        "colab": {
          "base_uri": "https://localhost:8080/"
        },
        "id": "dIHfOOPtJ0_a",
        "outputId": "7a8a0037-ae76-4d09-8fbc-961a081ad4b2"
      },
      "execution_count": null,
      "outputs": [
        {
          "output_type": "stream",
          "name": "stdout",
          "text": [
            "國文分數：90分\n",
            "數學分數：82分\n",
            "英文分數：95分\n",
            "自然分數：85分\n",
            "[('國文', 90), ('數學', 82), ('英文', 95), ('自然', 85)]\n",
            "國文分數：90分\n",
            "數學分數：82分\n",
            "英文分數：95分\n",
            "自然分數：85分\n"
          ]
        }
      ]
    },
    {
      "cell_type": "markdown",
      "source": [
        "# While 迴圈"
      ],
      "metadata": {
        "id": "D0V50BZ7RqzU"
      }
    },
    {
      "cell_type": "code",
      "source": [
        "ans = random.randint(1, 20)\n",
        "max_count = 5\n",
        "count = 1\n",
        "\n",
        "guess = int(input(\"Guess a number from 1-20: \"))\n",
        "while count < 5:\n",
        "  if guess == ans:\n",
        "    print(\"You got it!!Cool!!! :))\")\n",
        "    break\n",
        "  count += 1\n",
        "  max_count -= 1\n",
        "  guess = int(input(f\"You still have {max_count} Try again: \"))\n",
        "print(\"Game Over\")"
      ],
      "metadata": {
        "colab": {
          "base_uri": "https://localhost:8080/"
        },
        "id": "mwkewq9JRyuG",
        "outputId": "1d647894-5fff-422c-e205-1e66b0c0efdb"
      },
      "execution_count": null,
      "outputs": [
        {
          "output_type": "stream",
          "name": "stdout",
          "text": [
            "Guess a number from 1-20: 4\n",
            "You still have 4 Try again: 6\n",
            "You still have 3 Try again: 8\n",
            "You still have 2 Try again: 20\n",
            "You got it!!Cool!!! :))\n",
            "Game Over\n"
          ]
        }
      ]
    },
    {
      "cell_type": "markdown",
      "source": [
        "# 練習 2-2"
      ],
      "metadata": {
        "id": "ixwJ4Su2MGCQ"
      }
    },
    {
      "cell_type": "markdown",
      "source": [
        "## 九九乘法表"
      ],
      "metadata": {
        "id": "sLLChmYLNrur"
      }
    },
    {
      "cell_type": "code",
      "source": [
        "# 顯示九九乘法表\n",
        "\n",
        "for x in range(2, 10):\n",
        "  for y in range(1, 10):\n",
        "    print(\"%d x %d = %d\" %(x, y, x*y), end = \"\\n\")\n",
        "  print()"
      ],
      "metadata": {
        "colab": {
          "base_uri": "https://localhost:8080/"
        },
        "id": "kLUuP5y8MJvm",
        "outputId": "0dbbf327-0356-4ac5-ab15-199cd2e5442e"
      },
      "execution_count": null,
      "outputs": [
        {
          "output_type": "stream",
          "name": "stdout",
          "text": [
            "2 x 1 = 2\n",
            "2 x 2 = 4\n",
            "2 x 3 = 6\n",
            "2 x 4 = 8\n",
            "2 x 5 = 10\n",
            "2 x 6 = 12\n",
            "2 x 7 = 14\n",
            "2 x 8 = 16\n",
            "2 x 9 = 18\n",
            "\n",
            "3 x 1 = 3\n",
            "3 x 2 = 6\n",
            "3 x 3 = 9\n",
            "3 x 4 = 12\n",
            "3 x 5 = 15\n",
            "3 x 6 = 18\n",
            "3 x 7 = 21\n",
            "3 x 8 = 24\n",
            "3 x 9 = 27\n",
            "\n",
            "4 x 1 = 4\n",
            "4 x 2 = 8\n",
            "4 x 3 = 12\n",
            "4 x 4 = 16\n",
            "4 x 5 = 20\n",
            "4 x 6 = 24\n",
            "4 x 7 = 28\n",
            "4 x 8 = 32\n",
            "4 x 9 = 36\n",
            "\n",
            "5 x 1 = 5\n",
            "5 x 2 = 10\n",
            "5 x 3 = 15\n",
            "5 x 4 = 20\n",
            "5 x 5 = 25\n",
            "5 x 6 = 30\n",
            "5 x 7 = 35\n",
            "5 x 8 = 40\n",
            "5 x 9 = 45\n",
            "\n",
            "6 x 1 = 6\n",
            "6 x 2 = 12\n",
            "6 x 3 = 18\n",
            "6 x 4 = 24\n",
            "6 x 5 = 30\n",
            "6 x 6 = 36\n",
            "6 x 7 = 42\n",
            "6 x 8 = 48\n",
            "6 x 9 = 54\n",
            "\n",
            "7 x 1 = 7\n",
            "7 x 2 = 14\n",
            "7 x 3 = 21\n",
            "7 x 4 = 28\n",
            "7 x 5 = 35\n",
            "7 x 6 = 42\n",
            "7 x 7 = 49\n",
            "7 x 8 = 56\n",
            "7 x 9 = 63\n",
            "\n",
            "8 x 1 = 8\n",
            "8 x 2 = 16\n",
            "8 x 3 = 24\n",
            "8 x 4 = 32\n",
            "8 x 5 = 40\n",
            "8 x 6 = 48\n",
            "8 x 7 = 56\n",
            "8 x 8 = 64\n",
            "8 x 9 = 72\n",
            "\n",
            "9 x 1 = 9\n",
            "9 x 2 = 18\n",
            "9 x 3 = 27\n",
            "9 x 4 = 36\n",
            "9 x 5 = 45\n",
            "9 x 6 = 54\n",
            "9 x 7 = 63\n",
            "9 x 8 = 72\n",
            "9 x 9 = 81\n",
            "\n"
          ]
        }
      ]
    },
    {
      "cell_type": "markdown",
      "source": [
        "## 猜數字"
      ],
      "metadata": {
        "id": "s4Nm89bvN4-_"
      }
    },
    {
      "cell_type": "code",
      "source": [
        "import random\n",
        "ans = random.randint(1, 15)\n",
        "max_count = 5\n",
        "count = 1\n",
        "\n",
        "guess = int(input(\"Guess a number from 1-15: \"))\n",
        "while count < 5:\n",
        "  if guess == ans:\n",
        "    print(\"You got it!!Cool!!! :))\")\n",
        "    break\n",
        "  count += 1\n",
        "  max_count -= 1\n",
        "  guess = int(input(f\"Nope...You still have {max_count} time(s) to try. \\nTry again: \"))\n",
        "\n",
        "print(f\"The answer is: {ans}\\nGame Over\")"
      ],
      "metadata": {
        "colab": {
          "base_uri": "https://localhost:8080/"
        },
        "id": "M9m_9CD5N4dP",
        "outputId": "6a4fd950-0eb3-4d51-9e10-9395c3286de4"
      },
      "execution_count": null,
      "outputs": [
        {
          "output_type": "stream",
          "name": "stdout",
          "text": [
            "Guess a number from 1-15: 5\n",
            "You got it!!Cool!!! :))\n",
            "The answer is: 5\n",
            "Game Over\n"
          ]
        }
      ]
    },
    {
      "cell_type": "markdown",
      "source": [
        "## 費柏納希數列 Fibonacci"
      ],
      "metadata": {
        "id": "n_TraIDCPh2C"
      }
    },
    {
      "cell_type": "code",
      "source": [
        "def fib(n):\n",
        "  if n > 1:\n",
        "    return fib(n-2) + fib(n-1)\n",
        "  return n\n",
        "\n",
        "for i in range(20):\n",
        "  if fib(1) > 1000:\n",
        "    break\n",
        "  print(fib(i), end = \", \")\n",
        "  \n",
        "  "
      ],
      "metadata": {
        "colab": {
          "base_uri": "https://localhost:8080/"
        },
        "id": "1J6Osku3PzIN",
        "outputId": "94aba811-63f4-4a9f-d2bd-6a23e199453d"
      },
      "execution_count": null,
      "outputs": [
        {
          "output_type": "stream",
          "name": "stdout",
          "text": [
            "0, 1, 1, 2, 3, 5, 8, 13, 21, 34, 55, 89, 144, 233, 377, 610, 987, 1597, 2584, 4181, "
          ]
        }
      ]
    },
    {
      "cell_type": "markdown",
      "source": [
        "## 投票"
      ],
      "metadata": {
        "id": "Zf3BLTgL23Xc"
      }
    },
    {
      "cell_type": "code",
      "source": [
        "results = {\"David\": 0, \"Amy\": 0, \"Sean\": 0}\n",
        "candidates = (\"David\", \"Amy\", \"Sean\")\n",
        "for i in range(5):\n",
        "  vote = (input(\"投給：\"))\n",
        "  if(vote not in candidates):\n",
        "    print(\"選票無效！\")\n",
        "    continue\n",
        "  results[vote] = results[vote]+1\n",
        "print(\"投票結果：\")\n",
        "for name in candidates:\n",
        "  print(name, results[name], \"票\")"
      ],
      "metadata": {
        "colab": {
          "base_uri": "https://localhost:8080/"
        },
        "id": "tCQoaPgE22-e",
        "outputId": "0c471538-3008-4445-fb27-4fc9ac2dc0f5"
      },
      "execution_count": null,
      "outputs": [
        {
          "output_type": "stream",
          "name": "stdout",
          "text": [
            "投給：David\n",
            "投給：Amy\n",
            "投給：Sean\n",
            "投給：David\n",
            "投給：Amy\n",
            "投票結果：\n",
            "David 2 票\n",
            "Amy 2 票\n",
            "Sean 1 票\n"
          ]
        }
      ]
    },
    {
      "cell_type": "markdown",
      "source": [
        "## 檢查質數 or 質因數"
      ],
      "metadata": {
        "id": "XnxrJ8QIW7eG"
      }
    },
    {
      "cell_type": "code",
      "source": [
        "def is_prime(number):\n",
        "  for i in range(2, number):\n",
        "    if number % i == 0:\n",
        "      return False\n",
        "    return True\n",
        "\n",
        "num = int(input(\"Give a number: \"))\n",
        "\n",
        "if is_prime(num):\n",
        "  print(\"質數\")\n",
        "else:\n",
        "  print(\"不是質數\")\n"
      ],
      "metadata": {
        "id": "inyX5IYeW636",
        "colab": {
          "base_uri": "https://localhost:8080/"
        },
        "outputId": "811a7a57-ab43-400d-a24b-3df050f582e7"
      },
      "execution_count": null,
      "outputs": [
        {
          "output_type": "stream",
          "name": "stdout",
          "text": [
            "Give a number: 20\n",
            "不是質數\n"
          ]
        }
      ]
    },
    {
      "cell_type": "code",
      "source": [
        "num = int(input(\"Give a number: \"))\n",
        "\n",
        "print(f\"{num} 的質因數:\", end = \" \")\n",
        "\n",
        "for x in range(2, num):\n",
        "  if num % x != 0:\n",
        "    continue\n",
        "  for i in range(2, x):\n",
        "    if x % i == 0:\n",
        "      break\n",
        "  else:\n",
        "    print(x, end = \", \")\n",
        "\n",
        "print()"
      ],
      "metadata": {
        "colab": {
          "base_uri": "https://localhost:8080/"
        },
        "id": "NeCfSVia7My4",
        "outputId": "5e12f124-e25c-4d1f-a064-2ba364d72f45"
      },
      "execution_count": null,
      "outputs": [
        {
          "output_type": "stream",
          "name": "stdout",
          "text": [
            "Give a number: 42\n",
            "42 的質因數: 2, 3, 7, \n"
          ]
        }
      ]
    },
    {
      "cell_type": "code",
      "source": [
        ""
      ],
      "metadata": {
        "id": "y6w3qhV_eMn1"
      },
      "execution_count": null,
      "outputs": []
    }
  ],
  "metadata": {
    "colab": {
      "name": "py02.ipynb",
      "toc_visible": true,
      "provenance": [],
      "authorship_tag": "ABX9TyOOVM6av28Du90+veiKfXoW",
      "include_colab_link": true
    },
    "kernelspec": {
      "display_name": "Python 3",
      "name": "python3"
    },
    "language_info": {
      "name": "python"
    }
  },
  "nbformat": 4,
  "nbformat_minor": 0
}